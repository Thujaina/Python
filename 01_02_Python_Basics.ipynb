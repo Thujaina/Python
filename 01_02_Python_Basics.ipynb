{
  "cells": [
    {
      "cell_type": "markdown",
      "metadata": {
        "nbpages": {
          "level": 0,
          "link": "[](https://jckantor.github.io/CBE30338/01.02-Python-Basics.html)",
          "section": ""
        },
        "id": "lxOzii9GVjJS"
      },
      "source": [
        "<!--NOTEBOOK_HEADER-->\n",
        "*This notebook contains material from [CBE30338](https://jckantor.github.io/CBE30338);\n",
        "content is available [on Github](https://github.com/jckantor/CBE30338.git).*\n"
      ]
    },
    {
      "cell_type": "markdown",
      "metadata": {
        "nbpages": {
          "level": 0,
          "link": "[](https://jckantor.github.io/CBE30338/01.02-Python-Basics.html)",
          "section": ""
        },
        "id": "CgagGtorVjJc"
      },
      "source": [
        "<!--NAVIGATION-->\n",
        "< [1.1 Getting Started with Python and Jupyter Notebooks](https://jckantor.github.io/CBE30338/01.01-Getting-Started-with-Python-and-Jupyter-Notebooks.html) | [Contents](toc.html) | [Tag Index](tag_index.html) | [1.3 Python Conditionals and Libraries](https://jckantor.github.io/CBE30338/01.03-Python-Conditionals-and-Libraries.html) ><p><a href=\"https://colab.research.google.com/github/jckantor/CBE30338/blob/master/docs/01.02-Python-Basics.ipynb\"> <img align=\"left\" src=\"https://colab.research.google.com/assets/colab-badge.svg\" alt=\"Open in Colab\" title=\"Open in Google Colaboratory\"></a><p><a href=\"https://jckantor.github.io/CBE30338/01.02-Python-Basics.ipynb\"> <img align=\"left\" src=\"https://img.shields.io/badge/Github-Download-blue.svg\" alt=\"Download\" title=\"Download Notebook\"></a>"
      ]
    },
    {
      "cell_type": "markdown",
      "metadata": {
        "nbpages": {
          "level": 1,
          "link": "[1.2 Python Basics](https://jckantor.github.io/CBE30338/01.02-Python-Basics.html#1.2-Python-Basics)",
          "section": "1.2 Python Basics"
        },
        "id": "PGPXmLZ5VjJf"
      },
      "source": [
        "# 1.2 Python Basics\n",
        "\n",
        "**A Tutorial by Jacob Gerace**"
      ]
    },
    {
      "cell_type": "markdown",
      "metadata": {
        "nbpages": {
          "level": 2,
          "link": "[1.2.1 What I hope you'll get out of this tutorial](https://jckantor.github.io/CBE30338/01.02-Python-Basics.html#1.2.1-What-I-hope-you'll-get-out-of-this-tutorial)",
          "section": "1.2.1 What I hope you'll get out of this tutorial"
        },
        "id": "97JxY0J2VjJg"
      },
      "source": [
        "## 1.2.1 What I hope you'll get out of this tutorial\n",
        "* The feeling that you'll \"know where to start\" when you see python code in lecture, or when you need to write python for an assignment.\n",
        "* (You won't be a python expert after one hour)\n",
        "* Basics to variables, lists, conditionals, functions, loops, and the numpy package.\n",
        "* Resources to look further"
      ]
    },
    {
      "cell_type": "markdown",
      "metadata": {
        "nbpages": {
          "level": 3,
          "link": "[1.2.1.1 Why Python?](https://jckantor.github.io/CBE30338/01.02-Python-Basics.html#1.2.1.1-Why-Python?)",
          "section": "1.2.1.1 Why Python?"
        },
        "id": "rTR9y4hdVjJh"
      },
      "source": [
        "### 1.2.1.1 Why Python?\n",
        "\n",
        "1. Clean syntax\n",
        "2. The same code can run on all Operating Systems\n",
        "3. **Extensive first and third party libraries (of particular note for our purposes is NumPy)**"
      ]
    },
    {
      "cell_type": "markdown",
      "metadata": {
        "nbpages": {
          "level": 3,
          "link": "[1.2.1.2 Markdown Sidenote](https://jckantor.github.io/CBE30338/01.02-Python-Basics.html#1.2.1.2-Markdown-Sidenote)",
          "section": "1.2.1.2 Markdown Sidenote"
        },
        "id": "rXbcwL9RVjJi"
      },
      "source": [
        "### 1.2.1.2 Markdown Sidenote\n",
        " * This text is written in a Markdown block. Markdown is straightforward way to format writeups in Jupyter, but I won't cover it here for the sake of brevity.\n",
        " * See if you can use Markdown in your next homework, here's a link that explains the formatting: https://daringfireball.net/projects/markdown/syntax .\n",
        " * You can also look at existing Markdown examples (i.e. this worksheet) and emulate the style. Double click a Markdown box in Jupyter to show the code.\n",
        ""
      ]
    },
    {
      "cell_type": "markdown",
      "metadata": {
        "nbpages": {
          "level": 3,
          "link": "[1.2.1.3 LaTeX Sidenote](https://jckantor.github.io/CBE30338/01.02-Python-Basics.html#1.2.1.3-LaTeX-Sidenote)",
          "section": "1.2.1.3 LaTeX Sidenote"
        },
        "id": "x8gfAuC-VjJj"
      },
      "source": [
        "### 1.2.1.3 LaTeX Sidenote\n",
        "* LaTeX (pronounced \"La-tech\") is a language itself used widely to write documents with symbolic math\n",
        "* When you add a mathematical formula to these markdown blocks, the math is in LaTeX.\n",
        "* Ex from class: $$V \\frac{dC}{dt} = u(t) - Q C(t)$$\n",
        "* A good resource: https://en.wikibooks.org/wiki/LaTeX/Mathematics\n",
        "\n",
        ""
      ]
    },
    {
      "cell_type": "markdown",
      "metadata": {
        "nbpages": {
          "level": 2,
          "link": "[1.2.2 Python Basics](https://jckantor.github.io/CBE30338/01.02-Python-Basics.html#1.2.2-Python-Basics)",
          "section": "1.2.2 Python Basics"
        },
        "id": "3qQdl92pVjJk"
      },
      "source": [
        "## 1.2.2 Python Basics"
      ]
    },
    {
      "cell_type": "markdown",
      "metadata": {
        "nbpages": {
          "level": 3,
          "link": "[1.2.2.1 Variables](https://jckantor.github.io/CBE30338/01.02-Python-Basics.html#1.2.2.1-Variables)",
          "section": "1.2.2.1 Variables"
        },
        "id": "fCViUTzwVjJl"
      },
      "source": [
        "### 1.2.2.1 Variables"
      ]
    },
    {
      "cell_type": "code",
      "execution_count": 2,
      "metadata": {
        "nbpages": {
          "level": 3,
          "link": "[1.2.2.1 Variables](https://jckantor.github.io/CBE30338/01.02-Python-Basics.html#1.2.2.1-Variables)",
          "section": "1.2.2.1 Variables"
        },
        "id": "fu2yxCpAVjJm",
        "outputId": "1f642a7f-7eb2-41cf-8898-8b63610a7335",
        "colab": {
          "base_uri": "https://localhost:8080/"
        }
      },
      "outputs": [
        {
          "output_type": "stream",
          "name": "stdout",
          "text": [
            "42\n",
            "3.1415\n"
          ]
        }
      ],
      "source": [
        "#A variable stores a piece of data and gives it a name\n",
        "answer = 42\n",
        "\n",
        "#answer contained an integer because we gave it an integer!\n",
        "\n",
        "is_it_thursday = True\n",
        "is_it_wednesday = False\n",
        "\n",
        "#these both are 'booleans' or true/false values\n",
        "\n",
        "pi_approx = 3.1415\n",
        "\n",
        "#This will be a floating point number, or a number containing digits after the decimal point\n",
        "\n",
        "my_name = \"Jacob\"\n",
        "#This is a string datatype, the name coming from a string of characters\n",
        "\n",
        "#Data doesn't have to be a singular unit\n",
        "\n",
        "#p.s., we can print all of these with a print command. For Example:\n",
        "print(answer)\n",
        "print(pi_approx)"
      ]
    },
    {
      "cell_type": "code",
      "source": [
        "print('test')"
      ],
      "metadata": {
        "id": "e5R_4gxkVu_a",
        "outputId": "e40fba01-aaf8-4189-8817-2ebe11d10ce8",
        "colab": {
          "base_uri": "https://localhost:8080/"
        }
      },
      "execution_count": 1,
      "outputs": [
        {
          "output_type": "stream",
          "name": "stdout",
          "text": [
            "test\n"
          ]
        }
      ]
    },
    {
      "cell_type": "markdown",
      "metadata": {
        "nbpages": {
          "level": 3,
          "link": "[1.2.2.2 More Complicated Data Types](https://jckantor.github.io/CBE30338/01.02-Python-Basics.html#1.2.2.2-More-Complicated-Data-Types)",
          "section": "1.2.2.2 More Complicated Data Types"
        },
        "id": "6qIkq-a-VjJo"
      },
      "source": [
        "### 1.2.2.2 More Complicated Data Types"
      ]
    },
    {
      "cell_type": "code",
      "execution_count": 3,
      "metadata": {
        "nbpages": {
          "level": 3,
          "link": "[1.2.2.2 More Complicated Data Types](https://jckantor.github.io/CBE30338/01.02-Python-Basics.html#1.2.2.2-More-Complicated-Data-Types)",
          "section": "1.2.2.2 More Complicated Data Types"
        },
        "scrolled": true,
        "id": "fHogsgKqVjJp",
        "outputId": "c0beadcf-8fc4-4ed3-8aea-4c86c536042c",
        "colab": {
          "base_uri": "https://localhost:8080/"
        }
      },
      "outputs": [
        {
          "output_type": "stream",
          "name": "stdout",
          "text": [
            "['Green', 'Blue', 'Red']\n",
            "[10, 20, 30, 40, 50, 'Sixty']\n",
            "Green\n",
            "Red\n",
            "Rosa Parks\n"
          ]
        }
      ],
      "source": [
        "\n",
        "#What if we want to store many integers? We need a list!\n",
        "prices = [10, 20, 30, 40, 50]\n",
        "\n",
        "#This is a way to define a list in place. We can also make an empty list and add to it.\n",
        "colors = []\n",
        "\n",
        "colors.append(\"Green\")\n",
        "colors.append(\"Blue\")\n",
        "colors.append(\"Red\")\n",
        "\n",
        "print(colors)\n",
        "\n",
        "#We can also add unlike data to a list\n",
        "prices.append(\"Sixty\")\n",
        "\n",
        "#As an exercise, look up lists in python and find out how to add in the middle of a list!\n",
        "\n",
        "print(prices)\n",
        "#We can access a specific element of a list too:\n",
        "\n",
        "print(colors[0])\n",
        "print(colors[2])\n",
        "\n",
        "#Notice here how the first element of the list is index 0, not 1!\n",
        "#Languages like MATLAB are 1 indexed, be careful!\n",
        "\n",
        "#In addition to lists, there are tuples\n",
        "#Tuples behave very similarly to lists except that you can't change them\n",
        "# after you make them\n",
        "\n",
        "#An empty Tuple isn't very useful:\n",
        "empty_tuple = ()\n",
        "\n",
        "#Nor is a tuple with just one value:\n",
        "one_tuple = (\"first\",)\n",
        "\n",
        "#But tuples with many values are useful:\n",
        "rosa_parks_info = (\"Rosa\", \"Parks\", 1913, \"February\", 4)\n",
        "\n",
        "#You can access tuples just like lists\n",
        "print(rosa_parks_info[0] + \" \" + rosa_parks_info[1])\n",
        "\n",
        "# You cannot modify existing tuples, but you can make new tuples that extend\n",
        "# the information.\n",
        "# I expect Tuples to come up less than lists. So we'll just leave it at that."
      ]
    },
    {
      "cell_type": "markdown",
      "metadata": {
        "nbpages": {
          "level": 3,
          "link": "[1.2.2.3 Using Variables](https://jckantor.github.io/CBE30338/01.02-Python-Basics.html#1.2.2.3-Using-Variables)",
          "section": "1.2.2.3 Using Variables"
        },
        "id": "4j_Bc1QtVjJq"
      },
      "source": [
        "### 1.2.2.3 Using Variables"
      ]
    },
    {
      "cell_type": "code",
      "execution_count": null,
      "metadata": {
        "nbpages": {
          "level": 3,
          "link": "[1.2.2.3 Using Variables](https://jckantor.github.io/CBE30338/01.02-Python-Basics.html#1.2.2.3-Using-Variables)",
          "section": "1.2.2.3 Using Variables"
        },
        "scrolled": true,
        "id": "2MzeTikFVjJr",
        "outputId": "07fe5d7f-3197-40e3-d38f-4fdf3d2ba2f3"
      },
      "outputs": [
        {
          "name": "stdout",
          "output_type": "stream",
          "text": [
            "8.0\n",
            "3.5\n",
            "12.9375\n",
            "2.5555555555555554\n",
            "1\n"
          ]
        }
      ],
      "source": [
        "float1 = 5.75\n",
        "float2 = 2.25\n",
        "#Addition, subtraction, multiplication, division are as you expect\n",
        "\n",
        "print(float1 + float2)\n",
        "print(float1 - float2)\n",
        "print(float1 * float2)\n",
        "print(float1 / float2)\n",
        "\n",
        "#Here's an interesting one that showed up in the first homework in 2017. Modulus:\n",
        "print(5 % 2)"
      ]
    },
    {
      "cell_type": "markdown",
      "metadata": {
        "nbpages": {
          "level": 3,
          "link": "[1.2.2.4 Importing in Python: Math and plotting](https://jckantor.github.io/CBE30338/01.02-Python-Basics.html#1.2.2.4-Importing-in-Python:-Math-and-plotting)",
          "section": "1.2.2.4 Importing in Python: Math and plotting"
        },
        "id": "0SHUOqbwVjJr"
      },
      "source": [
        "### 1.2.2.4 Importing in Python: Math and plotting"
      ]
    },
    {
      "cell_type": "code",
      "execution_count": null,
      "metadata": {
        "nbpages": {
          "level": 3,
          "link": "[1.2.2.4 Importing in Python: Math and plotting](https://jckantor.github.io/CBE30338/01.02-Python-Basics.html#1.2.2.4-Importing-in-Python:-Math-and-plotting)",
          "section": "1.2.2.4 Importing in Python: Math and plotting"
        },
        "id": "RAxMTYYXVjJr"
      },
      "outputs": [],
      "source": [
        "#Just about every standard math function on a calculator has a python equivalent pre made.\n",
        "#however, they are from the 'math' package in python. Let's add that package!\n",
        "import math\n",
        "print(math.log(float1))\n",
        "print(math.exp(float2))\n",
        "print(math.pow(2,5))\n",
        "# There is a quicker way to write exponents if you want:\n",
        "print(2.0**5.0)\n",
        "\n",
        "#Like in MATLAB, you can expand the math to entire lists\n",
        "list3 = [1, 2, 3, 4, 5]\n",
        "print(2 * list3)"
      ]
    },
    {
      "cell_type": "code",
      "execution_count": 4,
      "metadata": {
        "nbpages": {
          "level": 3,
          "link": "[1.2.2.4 Importing in Python: Math and plotting](https://jckantor.github.io/CBE30338/01.02-Python-Basics.html#1.2.2.4-Importing-in-Python:-Math-and-plotting)",
          "section": "1.2.2.4 Importing in Python: Math and plotting"
        },
        "id": "Ma9a7UGsVjJs",
        "outputId": "c5c949d5-9a82-4803-f4bd-ae7e7b22a186",
        "colab": {
          "base_uri": "https://localhost:8080/",
          "height": 447
        }
      },
      "outputs": [
        {
          "output_type": "execute_result",
          "data": {
            "text/plain": [
              "[<matplotlib.lines.Line2D at 0x792cb827e530>]"
            ]
          },
          "metadata": {},
          "execution_count": 4
        },
        {
          "output_type": "display_data",
          "data": {
            "text/plain": [
              "<Figure size 640x480 with 1 Axes>"
            ],
            "image/png": "[encoded data removed]"
          },
          "metadata": {}
        }
      ],
      "source": [
        "#We can plot easily in Python like in matlab, just import the relevant package!\n",
        "%matplotlib inline\n",
        "import matplotlib.pyplot as plt\n",
        "\n",
        "x_vals = [-2, -1, 0, 1, 2]\n",
        "y_vals = [-4, -2, 0, 2, 4]\n",
        "plt.plot(x_vals, y_vals)"
      ]
    },
    {
      "cell_type": "markdown",
      "metadata": {
        "nbpages": {
          "level": 3,
          "link": "[1.2.2.5 Loops in Python](https://jckantor.github.io/CBE30338/01.02-Python-Basics.html#1.2.2.5-Loops-in-Python)",
          "section": "1.2.2.5 Loops in Python"
        },
        "id": "6FF3slUGVjJs"
      },
      "source": [
        "### 1.2.2.5 Loops in Python"
      ]
    },
    {
      "cell_type": "code",
      "execution_count": null,
      "metadata": {
        "nbpages": {
          "level": 3,
          "link": "[1.2.2.5 Loops in Python](https://jckantor.github.io/CBE30338/01.02-Python-Basics.html#1.2.2.5-Loops-in-Python)",
          "section": "1.2.2.5 Loops in Python"
        },
        "id": "Oa1VxWXGVjJs",
        "outputId": "4b8ec082-4a18-4667-f111-7e84e55d4508"
      },
      "outputs": [
        {
          "name": "stdout",
          "output_type": "stream",
          "text": [
            "1\n",
            "1\n",
            "2\n",
            "3\n",
            "5\n",
            "8\n",
            "Let's try that again\n",
            "1\n",
            "1\n",
            "2\n",
            "3\n",
            "5\n",
            "8\n",
            "One more time:\n",
            "1\n",
            "1\n",
            "2\n",
            "3\n",
            "5\n",
            "8\n"
          ]
        }
      ],
      "source": [
        "#Repeat code until a conditional statement ends the loop\n",
        "\n",
        "#Let's try printing a list\n",
        "fib = [1, 1, 2, 3, 5, 8]\n",
        "\n",
        "#While loops are the basic type\n",
        "i = 0\n",
        "while(i < len(fib)):\n",
        "    print(fib[i])\n",
        "    i = i + 1\n",
        "\n",
        "#In matlab, to do the same thing you would have the conditional as: counter < (length(fib) + 1)\n",
        "#This is because matlab starts indexing at 1, and python starts at 0.\n",
        "\n",
        "#The above type of loop is so common that the 'for' loop is the way to write it faster.\n",
        "\n",
        "print(\"Let's try that again\")\n",
        "#This is most similar to for loops in matlab\n",
        "for i in range(0, len(fib)) :\n",
        "    print(fib[i])\n",
        "\n",
        "print(\"One more time:\")\n",
        "#Or you can do so even neater\n",
        "for e in fib:\n",
        "    print(e)"
      ]
    },
    {
      "cell_type": "markdown",
      "metadata": {
        "nbpages": {
          "level": 2,
          "link": "[1.2.3 Additional Resources](https://jckantor.github.io/CBE30338/01.02-Python-Basics.html#1.2.3-Additional-Resources)",
          "section": "1.2.3 Additional Resources"
        },
        "id": "oQZ5U-N-VjJt"
      },
      "source": [
        "## 1.2.3 Additional Resources\n",
        "* If you still feel VERY lost: [Code Academy](https://www.codecademy.com/learn/python)\n",
        "\n",
        "* If you want a good reference site: [Official Python Reference](https://docs.python.org/2/reference/)\n",
        "\n",
        "* If you want to learn python robustly: [Learn Python the Hard Way](https://learnpythonthehardway.org/book/)\n",
        "\n",
        "* Feel free to contact me at: **jgerace (at) nd (dot) edu**\n"
      ]
    },
    {
      "cell_type": "markdown",
      "metadata": {
        "nbpages": {
          "level": 2,
          "link": "[1.2.3 Additional Resources](https://jckantor.github.io/CBE30338/01.02-Python-Basics.html#1.2.3-Additional-Resources)",
          "section": "1.2.3 Additional Resources"
        },
        "id": "EFuWzG8gVjJt"
      },
      "source": [
        "<!--NAVIGATION-->\n",
        "< [1.1 Getting Started with Python and Jupyter Notebooks](https://jckantor.github.io/CBE30338/01.01-Getting-Started-with-Python-and-Jupyter-Notebooks.html) | [Contents](toc.html) | [Tag Index](tag_index.html) | [1.3 Python Conditionals and Libraries](https://jckantor.github.io/CBE30338/01.03-Python-Conditionals-and-Libraries.html) ><p><a href=\"https://colab.research.google.com/github/jckantor/CBE30338/blob/master/docs/01.02-Python-Basics.ipynb\"> <img align=\"left\" src=\"https://colab.research.google.com/assets/colab-badge.svg\" alt=\"Open in Colab\" title=\"Open in Google Colaboratory\"></a><p><a href=\"https://jckantor.github.io/CBE30338/01.02-Python-Basics.ipynb\"> <img align=\"left\" src=\"https://img.shields.io/badge/Github-Download-blue.svg\" alt=\"Download\" title=\"Download Notebook\"></a>"
      ]
    }
  ],
  "metadata": {
    "anaconda-cloud": {},
    "kernelspec": {
      "display_name": "Python 3",
      "language": "python",
      "name": "python3"
    },
    "language_info": {
      "codemirror_mode": {
        "name": "ipython",
        "version": 3
      },
      "file_extension": ".py",
      "mimetype": "text/x-python",
      "name": "python",
      "nbconvert_exporter": "python",
      "pygments_lexer": "ipython3",
      "version": "3.7.3"
    },
    "colab": {
      "provenance": []
    }
  },
  "nbformat": 4,
  "nbformat_minor": 0
}